{
 "cells": [
  {
   "cell_type": "code",
   "execution_count": 11,
   "id": "94847417",
   "metadata": {},
   "outputs": [],
   "source": [
    "import datetime \n",
    "  \n",
    "filename = \"today\"\n",
    "current_date = datetime.datetime.now() \n",
    "  \n",
    "def create_file():  \n",
    "    with open(filename + \".txt\", \"w\") as file: \n",
    "        file.write(current_date.strftime(\"%d %B %Y\")) \n",
    "  \n",
    "# Driver Code \n",
    "create_file() "
   ]
  },
  {
   "cell_type": "code",
   "execution_count": 16,
   "id": "58ce3ff2",
   "metadata": {},
   "outputs": [
    {
     "name": "stdout",
     "output_type": "stream",
     "text": [
      "25 February 2024\n"
     ]
    }
   ],
   "source": [
    "import datetime\n",
    "\n",
    "my_file = open(\"today.txt\", \"r\") \n",
    "  \n",
    "# reading the file \n",
    "today_string = my_file.read() \n",
    "print(today_string) \n",
    "my_file.close() "
   ]
  },
  {
   "cell_type": "code",
   "execution_count": 29,
   "id": "be5d78c5",
   "metadata": {},
   "outputs": [
    {
     "name": "stdout",
     "output_type": "stream",
     "text": [
      "Process MainProcess - Current time 2024-02-25 19:32:36\n",
      "Process MainProcess - Current time 2024-02-25 19:32:37\n",
      "Process MainProcess - Current time 2024-02-25 19:32:37\n",
      "All processes have finished.\n"
     ]
    }
   ],
   "source": [
    "import multiprocessing\n",
    "import random\n",
    "import time\n",
    "from datetime import datetime\n",
    "\n",
    "def worker():\n",
    "   sleep_time = random.uniform(0,1)\n",
    "   time.sleep(sleep_time)\n",
    "   current_time = datetime.now().strftime(\"%Y-%m-%d %H:%M:%S\")\n",
    "   print(f\"Process {multiprocessing.current_process().name} - Current time {current_time}\")\n",
    "if __name__==\"__main__\":\n",
    "   processes = []\n",
    "   for i in range(3):\n",
    "      process = multiprocessing.Process(target=worker())\n",
    "      processes.append(process)\n",
    "      process.start()\n",
    "\n",
    "   for process in processes:\n",
    "      process.join()\n",
    "   print(\"All processes have finished.\")"
   ]
  },
  {
   "cell_type": "code",
   "execution_count": null,
   "id": "a5b6b2de",
   "metadata": {},
   "outputs": [],
   "source": []
  }
 ],
 "metadata": {
  "kernelspec": {
   "display_name": "Python 3 (ipykernel)",
   "language": "python",
   "name": "python3"
  },
  "language_info": {
   "codemirror_mode": {
    "name": "ipython",
    "version": 3
   },
   "file_extension": ".py",
   "mimetype": "text/x-python",
   "name": "python",
   "nbconvert_exporter": "python",
   "pygments_lexer": "ipython3",
   "version": "3.11.5"
  }
 },
 "nbformat": 4,
 "nbformat_minor": 5
}
